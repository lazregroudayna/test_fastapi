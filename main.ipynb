{
 "cells": [
  {
   "cell_type": "code",
   "execution_count": 1,
   "id": "bdeb64af-4cdf-4484-b193-049e4db371c1",
   "metadata": {},
   "outputs": [
    {
     "name": "stdout",
     "output_type": "stream",
     "text": [
      "Requirement already satisfied: fastapi in c:\\users\\zorg\\.eclipse\\anac\\lib\\site-packages (0.115.6)\n",
      "Requirement already satisfied: uvicorn in c:\\users\\zorg\\.eclipse\\anac\\lib\\site-packages (0.32.1)\n",
      "Requirement already satisfied: nest_asyncio in c:\\users\\zorg\\.eclipse\\anac\\lib\\site-packages (1.6.0)\n",
      "Requirement already satisfied: starlette<0.42.0,>=0.40.0 in c:\\users\\zorg\\.eclipse\\anac\\lib\\site-packages (from fastapi) (0.41.3)\n",
      "Requirement already satisfied: pydantic!=1.8,!=1.8.1,!=2.0.0,!=2.0.1,!=2.1.0,<3.0.0,>=1.7.4 in c:\\users\\zorg\\.eclipse\\anac\\lib\\site-packages (from fastapi) (2.5.3)\n",
      "Requirement already satisfied: typing-extensions>=4.8.0 in c:\\users\\zorg\\.eclipse\\anac\\lib\\site-packages (from fastapi) (4.12.2)\n",
      "Requirement already satisfied: click>=7.0 in c:\\users\\zorg\\.eclipse\\anac\\lib\\site-packages (from uvicorn) (8.1.7)\n",
      "Requirement already satisfied: h11>=0.8 in c:\\users\\zorg\\.eclipse\\anac\\lib\\site-packages (from uvicorn) (0.14.0)\n",
      "Requirement already satisfied: colorama in c:\\users\\zorg\\.eclipse\\anac\\lib\\site-packages (from click>=7.0->uvicorn) (0.4.6)\n",
      "Requirement already satisfied: annotated-types>=0.4.0 in c:\\users\\zorg\\.eclipse\\anac\\lib\\site-packages (from pydantic!=1.8,!=1.8.1,!=2.0.0,!=2.0.1,!=2.1.0,<3.0.0,>=1.7.4->fastapi) (0.6.0)\n",
      "Requirement already satisfied: pydantic-core==2.14.6 in c:\\users\\zorg\\.eclipse\\anac\\lib\\site-packages (from pydantic!=1.8,!=1.8.1,!=2.0.0,!=2.0.1,!=2.1.0,<3.0.0,>=1.7.4->fastapi) (2.14.6)\n",
      "Requirement already satisfied: anyio<5,>=3.4.0 in c:\\users\\zorg\\.eclipse\\anac\\lib\\site-packages (from starlette<0.42.0,>=0.40.0->fastapi) (4.2.0)\n",
      "Requirement already satisfied: idna>=2.8 in c:\\users\\zorg\\.eclipse\\anac\\lib\\site-packages (from anyio<5,>=3.4.0->starlette<0.42.0,>=0.40.0->fastapi) (3.7)\n",
      "Requirement already satisfied: sniffio>=1.1 in c:\\users\\zorg\\.eclipse\\anac\\lib\\site-packages (from anyio<5,>=3.4.0->starlette<0.42.0,>=0.40.0->fastapi) (1.3.0)\n"
     ]
    }
   ],
   "source": [
    "!pip install fastapi uvicorn nest_asyncio\n"
   ]
  },
  {
   "cell_type": "code",
   "execution_count": 2,
   "id": "e716cf09-cb89-48ab-9f07-fa14c218abb8",
   "metadata": {},
   "outputs": [],
   "source": [
    "from fastapi import FastAPI\n",
    "from pydantic import BaseModel\n",
    "import pandas as pd\n",
    "from sklearn.datasets import load_iris\n",
    "import nest_asyncio\n",
    "from uvicorn import Config, Server\n"
   ]
  },
  {
   "cell_type": "code",
   "execution_count": 3,
   "id": "ca0ad118-2830-4e38-aac5-31e73941aee2",
   "metadata": {},
   "outputs": [],
   "source": [
    "# Load the Iris dataset\n",
    "iris = load_iris()\n",
    "iris_data = pd.DataFrame(iris.data, columns=iris.feature_names)\n",
    "iris_data['species'] = iris.target_names[iris.target]\n"
   ]
  },
  {
   "cell_type": "code",
   "execution_count": 4,
   "id": "2c4b629e-46b8-4ceb-968b-0dda301ab9cb",
   "metadata": {},
   "outputs": [],
   "source": [
    "# Import required libraries\n",
    "from fastapi import FastAPI\n",
    "from pydantic import BaseModel\n",
    "from sklearn.datasets import load_iris\n",
    "from sklearn.ensemble import RandomForestClassifier\n",
    "import nest_asyncio\n",
    "from uvicorn import Config, Server\n",
    "\n",
    "# Load the Iris dataset\n",
    "iris = load_iris()\n",
    "iris_data = iris.data\n",
    "iris_target = iris.target\n",
    "iris_target_names = iris.target_names\n",
    "\n",
    "# Train a Random Forest classifier\n",
    "clf = RandomForestClassifier()\n",
    "clf.fit(iris_data, iris_target)\n",
    "\n",
    "# Initialize FastAPI app\n",
    "app = FastAPI()\n",
    "\n",
    "# Define the input model using Pydantic\n",
    "class QueryModel(BaseModel):\n",
    "    sepal_length: float\n",
    "    sepal_width: float\n",
    "    petal_length: float\n",
    "    petal_width: float\n",
    "\n",
    "# Root endpoint\n",
    "@app.get(\"/\")\n",
    "def read_root():\n",
    "    return {\"message\": \"Welcome to the Iris prediction API!\"}\n",
    "\n",
    "# Prediction endpoint\n",
    "@app.post(\"/predict/\")\n",
    "def predict(query: QueryModel):\n",
    "    try:\n",
    "        # Extract input values\n",
    "        data = [[query.sepal_length, query.sepal_width, query.petal_length, query.petal_width]]\n",
    "        # Make a prediction\n",
    "        prediction = clf.predict(data)[0]\n",
    "        predicted_class = iris_target_names[prediction]\n",
    "        return {\"prediction\": predicted_class}\n",
    "    except Exception as e:\n",
    "        return {\"error\": str(e)}\n",
    "\n",
    "\n"
   ]
  },
  {
   "cell_type": "code",
   "execution_count": 5,
   "id": "1d473692-5465-4775-afeb-2372f3a26f9f",
   "metadata": {},
   "outputs": [],
   "source": [
    "nest_asyncio.apply()\n"
   ]
  },
  {
   "cell_type": "code",
   "execution_count": null,
   "id": "a31cb954-f53f-4e2e-b733-fc858282814b",
   "metadata": {},
   "outputs": [
    {
     "name": "stderr",
     "output_type": "stream",
     "text": [
      "INFO:     Started server process [39784]\n",
      "INFO:     Waiting for application startup.\n",
      "INFO:     Application startup complete.\n",
      "INFO:     Uvicorn running on http://127.0.0.1:8001 (Press CTRL+C to quit)\n"
     ]
    },
    {
     "name": "stdout",
     "output_type": "stream",
     "text": [
      "INFO:     127.0.0.1:59543 - \"GET / HTTP/1.1\" 200 OK\n",
      "INFO:     127.0.0.1:59581 - \"GET /docs HTTP/1.1\" 200 OK\n",
      "INFO:     127.0.0.1:59581 - \"GET /openapi.json HTTP/1.1\" 200 OK\n",
      "INFO:     127.0.0.1:59588 - \"GET / HTTP/1.1\" 200 OK\n",
      "INFO:     127.0.0.1:59592 - \"POST /predict/ HTTP/1.1\" 200 OK\n",
      "INFO:     127.0.0.1:59666 - \"POST /predict/ HTTP/1.1\" 200 OK\n",
      "INFO:     127.0.0.1:59666 - \"POST /predict/ HTTP/1.1\" 200 OK\n",
      "INFO:     127.0.0.1:59683 - \"POST /predict/ HTTP/1.1\" 200 OK\n"
     ]
    }
   ],
   "source": [
    "config = Config(app=app, host=\"127.0.0.1\", port=8001)\n",
    "server = Server(config)\n",
    "server.run()\n",
    "\n"
   ]
  },
  {
   "cell_type": "code",
   "execution_count": null,
   "id": "f7682dca-b5f8-4e27-a852-acab715390d0",
   "metadata": {},
   "outputs": [],
   "source": []
  }
 ],
 "metadata": {
  "kernelspec": {
   "display_name": "Python 3 (ipykernel)",
   "language": "python",
   "name": "python3"
  },
  "language_info": {
   "codemirror_mode": {
    "name": "ipython",
    "version": 3
   },
   "file_extension": ".py",
   "mimetype": "text/x-python",
   "name": "python",
   "nbconvert_exporter": "python",
   "pygments_lexer": "ipython3",
   "version": "3.12.4"
  }
 },
 "nbformat": 4,
 "nbformat_minor": 5
}
